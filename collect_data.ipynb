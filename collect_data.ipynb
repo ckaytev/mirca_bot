{
 "cells": [
  {
   "cell_type": "code",
   "execution_count": 14,
   "metadata": {},
   "outputs": [],
   "source": [
    "import os\n",
    "import re\n",
    "\n",
    "import pandas as pd\n",
    "import numpy as np\n",
    "from joblib import dump\n",
    "\n",
    "from sklearn.feature_extraction.text import TfidfVectorizer\n",
    "from sklearn.decomposition import TruncatedSVD\n",
    "from sklearn.neighbors import BallTree\n",
    "from sklearn.base import BaseEstimator\n",
    "from sklearn.pipeline import make_pipeline"
   ]
  },
  {
   "cell_type": "code",
   "execution_count": 15,
   "metadata": {},
   "outputs": [],
   "source": [
    "scout_name_list = [\n",
    "    'argentum',\n",
    "    'ckayt',\n",
    "    'cкaут',\n",
    "    'cкаут',\n",
    "    'scout',\n",
    "    'scout33',\n",
    "    'scoutуроки',\n",
    "    'xek',\n",
    "    '}{ek',\n",
    "    'вельзeвул',\n",
    "    'вельзевул',\n",
    "    'мастер}{ek',\n",
    "    'мастер}{ек',\n",
    "    'скаут',\n",
    "    'скаут|ушел',\n",
    "    'скаутболеет'\n",
    "]\n",
    "\n",
    "friend_black_list = [\n",
    "    'bot',\n",
    "]\n",
    "\n",
    "\n",
    "def filter_name(name):\n",
    "    name = re.sub(r'[-\\[\\]_\\^\\x03\\x0f]+[\\d]*', r'', name)\n",
    "    return name\n",
    "\n",
    "\n",
    "def filter_text(text):\n",
    "    text = re.sub(r'[\\x02\\x03\\x95\\x0f\\x16\\x1f\\x7f]+[,\\d]*', '', text)\n",
    "    if len(set(re.sub(r'\\W', r'', text))) < 3:\n",
    "        return ''\n",
    "    return text\n",
    "\n",
    "\n",
    "def softmax(x):\n",
    "    proba = np.exp(-x)\n",
    "    return proba / sum(proba)\n",
    "\n",
    "\n",
    "class NeighborSampler(BaseEstimator):\n",
    "    def __init__(self, k=5, temperature=1.0):\n",
    "        self.k = k\n",
    "        self.temperature = temperature\n",
    "    def fit(self, X, y):\n",
    "        self.tree_ = BallTree(X)\n",
    "        self.y_ = np.array(y)\n",
    "    def predict(self, X, random_state=None):\n",
    "        distances, indices = self.tree_.query(X, return_distance=True, k=self.k)\n",
    "        result = []\n",
    "        for distance, index in zip(distances, indices):\n",
    "            result.append(np.random.choice(index, p=softmax(distance * self.temperature)))\n",
    "        return self.y_[result]"
   ]
  },
  {
   "cell_type": "code",
   "execution_count": 16,
   "metadata": {},
   "outputs": [
    {
     "data": {
      "text/plain": [
       "51962"
      ]
     },
     "execution_count": 16,
     "metadata": {},
     "output_type": "execute_result"
    }
   ],
   "source": [
    "# Преобразуем логи переписок в список диалогов\n",
    "# Должны остаться только диалоги со Скаутом\n",
    "# Предусмотреть отчистку от спама\n",
    "\n",
    "file_dir = 'messages_log'\n",
    "regex_message = re.compile(r'<(\\S+)>\\s([\\s\\S]+)$')\n",
    "\n",
    "files = os.listdir(file_dir)\n",
    "dialog_list = []\n",
    "for file in files:\n",
    "    prev_name = ''\n",
    "    prev_text = ''\n",
    "    scout_name = ''\n",
    "    friend_name = ''\n",
    "    question = []\n",
    "    answer = []\n",
    "    filepath = os.path.join(file_dir, file)\n",
    "    if not file.startswith('#'):\n",
    "        f = open(filepath, 'r', encoding='cp1251', errors='ignore')\n",
    "        for line in f.readlines():\n",
    "            line = line.strip().lower()\n",
    "            search_message = re.search(regex_message, line)\n",
    "            if search_message:\n",
    "                name = filter_name(search_message.group(1))\n",
    "                text = filter_text(search_message.group(2))\n",
    "\n",
    "                # spam filter\n",
    "                if name == prev_name and text==prev_text:\n",
    "                    continue\n",
    "\n",
    "                if name != prev_name and question != [] and answer != []:\n",
    "                    dialog_list.append([\n",
    "                        friend_name,\n",
    "                        ' '.join(question),\n",
    "                        scout_name,\n",
    "                        ' '.join(answer),\n",
    "                    ])\n",
    "                    question = []\n",
    "                    answer = []\n",
    "                \n",
    "                if name in friend_black_list:\n",
    "                    continue\n",
    "                elif name not in scout_name_list and text:\n",
    "                    friend_name = name\n",
    "                    question.append(text)\n",
    "                elif name in scout_name_list and text:\n",
    "                    if question == []:\n",
    "                        continue\n",
    "                    scout_name = name\n",
    "                    answer.append(text)\n",
    "                prev_name = name\n",
    "                prev_text = text\n",
    "\n",
    "len(dialog_list)"
   ]
  },
  {
   "cell_type": "code",
   "execution_count": 17,
   "metadata": {},
   "outputs": [
    {
     "data": {
      "text/plain": [
       "(51962, 4)"
      ]
     },
     "execution_count": 17,
     "metadata": {},
     "output_type": "execute_result"
    }
   ],
   "source": [
    "# Список в датафрейм\n",
    "df = pd.DataFrame(dialog_list, columns = ['friend', 'question', 'scout', 'answer'])\n",
    "df.shape"
   ]
  },
  {
   "cell_type": "code",
   "execution_count": 18,
   "metadata": {},
   "outputs": [
    {
     "data": {
      "text/plain": [
       "(51030, 4)"
      ]
     },
     "execution_count": 18,
     "metadata": {},
     "output_type": "execute_result"
    }
   ],
   "source": [
    "# Фильтрация коротких и длинных сообщений\n",
    "df = df[(df.answer.str.len() < 200) & (df.question.str.len() < 200)]\n",
    "df = df[(df.answer.str.len() > 2) & (df.question.str.len() > 2)]\n",
    "df.shape"
   ]
  },
  {
   "cell_type": "code",
   "execution_count": 19,
   "metadata": {},
   "outputs": [
    {
     "data": {
      "text/plain": [
       "(51030, 35551)"
      ]
     },
     "execution_count": 19,
     "metadata": {},
     "output_type": "execute_result"
    }
   ],
   "source": [
    "# Векторизация текстов\n",
    "vectorizer = TfidfVectorizer()\n",
    "vectorizer.fit(df.question)\n",
    "matrix_big = vectorizer.transform(df.question)\n",
    "matrix_big.shape"
   ]
  },
  {
   "cell_type": "code",
   "execution_count": 20,
   "metadata": {},
   "outputs": [
    {
     "data": {
      "text/plain": [
       "0.5594199232659739"
      ]
     },
     "execution_count": 20,
     "metadata": {},
     "output_type": "execute_result"
    }
   ],
   "source": [
    "# Сокращение размерности\n",
    "svd = TruncatedSVD(n_components=1000)\n",
    "svd.fit(matrix_big)\n",
    "matrix_small = svd.transform(matrix_big)\n",
    "# Процент сжатия\n",
    "svd.explained_variance_ratio_.sum()"
   ]
  },
  {
   "cell_type": "code",
   "execution_count": 21,
   "metadata": {},
   "outputs": [],
   "source": [
    "# Поиск ближайших соседей\n",
    "ns = NeighborSampler()\n",
    "ns.fit(matrix_small, df.answer)\n",
    "pipe = make_pipeline(vectorizer, svd, ns)"
   ]
  },
  {
   "cell_type": "code",
   "execution_count": 22,
   "metadata": {},
   "outputs": [
    {
     "data": {
      "text/plain": [
       "array(['привет'], dtype=object)"
      ]
     },
     "execution_count": 22,
     "metadata": {},
     "output_type": "execute_result"
    }
   ],
   "source": [
    "# Тест модели\n",
    "pipe.predict(['Привет скаут!'])"
   ]
  },
  {
   "cell_type": "code",
   "execution_count": 23,
   "metadata": {},
   "outputs": [
    {
     "data": {
      "text/plain": [
       "['pipe.joblib']"
      ]
     },
     "execution_count": 23,
     "metadata": {},
     "output_type": "execute_result"
    }
   ],
   "source": [
    "# Сохраняем модель\n",
    "dump(pipe, 'pipe.joblib')"
   ]
  }
 ],
 "metadata": {
  "kernelspec": {
   "display_name": "Python 3.9.2 64-bit",
   "language": "python",
   "name": "python3"
  },
  "language_info": {
   "codemirror_mode": {
    "name": "ipython",
    "version": 3
   },
   "file_extension": ".py",
   "mimetype": "text/x-python",
   "name": "python",
   "nbconvert_exporter": "python",
   "pygments_lexer": "ipython3",
   "version": "3.9.2"
  },
  "orig_nbformat": 4,
  "vscode": {
   "interpreter": {
    "hash": "916dbcbb3f70747c44a77c7bcd40155683ae19c65e1c03b4aa3499c5328201f1"
   }
  }
 },
 "nbformat": 4,
 "nbformat_minor": 2
}
